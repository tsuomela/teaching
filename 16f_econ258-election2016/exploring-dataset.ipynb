{
 "cells": [
  {
   "cell_type": "markdown",
   "metadata": {},
   "source": [
    "# Notes for Processing the Ashtabula and Erie county precinct data sets.\n",
    "\n",
    "Using counts by matching candidate names.  Need to confirm with ?\n",
    "Erie - 62 precincts\n",
    "Ashtabula - 127 precincts\n",
    "\n",
    "I tested the regex in Sublime Text first, then attempted to reproduce results in the shell.\n",
    "\n",
    "## Regex patterns for matching candidates:\n",
    "\n",
    "* Obama/Biden line: `^.*Obama.*$`\n",
    "* McCain/Palin line: `^.*McCain.*$`\n",
    "\n",
    "## For matching precinct information:\n",
    "\n",
    "* Erie file precinct name:  `\\d{4}\\s[A-Z]{2,3}.*$`\n",
    "Returns something of the form 0032 MIL VILL.  The 2,3 is because some abbreviations are only 2 characters, comma works as an OR.\n",
    "* Ashtabula file precinct name: `\\d{4}\\s\\d{2,3}.*$`\n",
    "\n",
    "## From the command line: grep or ack\n",
    "\n",
    "* grep \"Biden\" erie-pa.txt\n",
    "    - with c gives count of 62\n",
    "* grep grep `\"B.*\\sO.*$\"` erie-pa.txt, matches whole line\n",
    "    - with gives count of 62\n",
    "    \n",
    "I couldn't get grep or egrep to match the \\d or [:digits:] patterns from the command line.\n",
    "\n",
    "ack was more helpful\n",
    "\n",
    "* ack \"\\d{4}\\s\\d{2,3}.*$\" ashtabula-oh.txt\n",
    "\n",
    "I was able to get egrep to work using the Erie file pattern on 12/07/16.\n",
    "\n"
   ]
  },
  {
   "cell_type": "code",
   "execution_count": 2,
   "metadata": {
    "collapsed": false
   },
   "outputs": [
    {
     "name": "stdout",
     "output_type": "stream",
     "text": [
      "           Barack Obama/Joe Biden (DEM) .  .  .  .  .    388   45.92\r\n",
      "           Barack Obama/Joe Biden (DEM) .  .  .  .  .    382   57.62\r\n",
      "           Barack Obama/Joe Biden (DEM) .  .  .  .  .    291   45.61\r\n",
      "           Barack Obama/Joe Biden (DEM) .  .  .  .  .    273   49.01\r\n",
      "           Barack Obama/Joe Biden (DEM) .  .  .  .  .    358   44.97\r\n",
      "           Barack Obama/Joe Biden (DEM) .  .  .  .  .    405   56.88\r\n",
      "           Barack Obama/Joe Biden (DEM) .  .  .  .  .    139   36.48\r\n",
      "           Barack Obama/Joe Biden (DEM) .  .  .  .  .    630   72.50\r\n",
      "           Barack Obama/Joe Biden (DEM) .  .  .  .  .    555   80.67\r\n",
      "           Barack Obama/Joe Biden (DEM) .  .  .  .  .    425   62.04\r\n",
      "           Barack Obama/Joe Biden (DEM) .  .  .  .  .    624   74.02\r\n",
      "           Barack Obama/Joe Biden (DEM) .  .  .  .  .    511   65.01\r\n",
      "           Barack Obama/Joe Biden (DEM) .  .  .  .  .    608   71.36\r\n",
      "           Barack Obama/Joe Biden (DEM) .  .  .  .  .    549   69.76\r\n",
      "           Barack Obama/Joe Biden (DEM) .  .  .  .  .    616   69.14\r\n",
      "           Barack Obama/Joe Biden (DEM) .  .  .  .  .    554   74.97\r\n",
      "           Barack Obama/Joe Biden (DEM) .  .  .  .  .    616   70.08\r\n",
      "           Barack Obama/Joe Biden (DEM) .  .  .  .  .    448   73.08\r\n",
      "           Barack Obama/Joe Biden (DEM) .  .  .  .  .    460   74.43\r\n",
      "           Barack Obama/Joe Biden (DEM) .  .  .  .  .    551   77.06\r\n",
      "           Barack Obama/Joe Biden (DEM) .  .  .  .  .    473   65.69\r\n",
      "           Barack Obama/Joe Biden (DEM) .  .  .  .  .    624   63.09\r\n",
      "           Barack Obama/Joe Biden (DEM) .  .  .  .  .    244   47.38\r\n",
      "           Barack Obama/Joe Biden (DEM) .  .  .  .  .    248   58.35\r\n",
      "           Barack Obama/Joe Biden (DEM) .  .  .  .  .    347   55.97\r\n",
      "           Barack Obama/Joe Biden (DEM) .  .  .  .  .    307   55.62\r\n",
      "           Barack Obama/Joe Biden (DEM) .  .  .  .  .    287   54.98\r\n",
      "           Barack Obama/Joe Biden (DEM) .  .  .  .  .    211   53.55\r\n",
      "           Barack Obama/Joe Biden (DEM) .  .  .  .  .    121   41.58\r\n",
      "           Barack Obama/Joe Biden (DEM) .  .  .  .  .    203   57.18\r\n",
      "           Barack Obama/Joe Biden (DEM) .  .  .  .  .    241   50.74\r\n",
      "           Barack Obama/Joe Biden (DEM) .  .  .  .  .    222   41.42\r\n",
      "           Barack Obama/Joe Biden (DEM) .  .  .  .  .    319   50.63\r\n",
      "           Barack Obama/Joe Biden (DEM) .  .  .  .  .    419   46.92\r\n",
      "           Barack Obama/Joe Biden (DEM) .  .  .  .  .    302   48.24\r\n",
      "           Barack Obama/Joe Biden (DEM) .  .  .  .  .    414   50.49\r\n",
      "           Barack Obama/Joe Biden (DEM) .  .  .  .  .    354   46.40\r\n",
      "           Barack Obama/Joe Biden (DEM) .  .  .  .  .    330   40.79\r\n",
      "           Barack Obama/Joe Biden (DEM) .  .  .  .  .    315   46.19\r\n",
      "           Barack Obama/Joe Biden (DEM) .  .  .  .  .    309   44.21\r\n",
      "           Barack Obama/Joe Biden (DEM) .  .  .  .  .    351   48.82\r\n",
      "           Barack Obama/Joe Biden (DEM) .  .  .  .  .    293   57.91\r\n",
      "           Barack Obama/Joe Biden (DEM) .  .  .  .  .    427   58.17\r\n",
      "           Barack Obama/Joe Biden (DEM) .  .  .  .  .    275   55.78\r\n",
      "           Barack Obama/Joe Biden (DEM) .  .  .  .  .    242   44.40\r\n",
      "           Barack Obama/Joe Biden (DEM) .  .  .  .  .    342   38.30\r\n",
      "           Barack Obama/Joe Biden (DEM) .  .  .  .  .    365   52.52\r\n",
      "           Barack Obama/Joe Biden (DEM) .  .  .  .  .    513   61.44\r\n",
      "           Barack Obama/Joe Biden (DEM) .  .  .  .  .    484   48.30\r\n",
      "           Barack Obama/Joe Biden (DEM) .  .  .  .  .    307   42.34\r\n",
      "           Barack Obama/Joe Biden (DEM) .  .  .  .  .    355   58.39\r\n",
      "           Barack Obama/Joe Biden (DEM) .  .  .  .  .    112   49.78\r\n",
      "           Barack Obama/Joe Biden (DEM) .  .  .  .  .    405   53.36\r\n",
      "           Barack Obama/Joe Biden (DEM) .  .  .  .  .    360   52.33\r\n",
      "           Barack Obama/Joe Biden (DEM) .  .  .  .  .    449   55.23\r\n",
      "           Barack Obama/Joe Biden (DEM) .  .  .  .  .    345   54.68\r\n",
      "           Barack Obama/Joe Biden (DEM) .  .  .  .  .    433   48.49\r\n",
      "           Barack Obama/Joe Biden (DEM) .  .  .  .  .    409   53.19\r\n",
      "           Barack Obama/Joe Biden (DEM) .  .  .  .  .    295   54.53\r\n",
      "           Barack Obama/Joe Biden (DEM) .  .  .  .  .    264   52.28\r\n",
      "           Barack Obama/Joe Biden (DEM) .  .  .  .  .    223   51.74\r\n",
      "           Barack Obama/Joe Biden (DEM) .  .  .  .  .    226   45.93\r\n"
     ]
    }
   ],
   "source": [
    "!egrep \"Biden\" data/erie-pa/erie-pa.txt"
   ]
  },
  {
   "cell_type": "code",
   "execution_count": 6,
   "metadata": {
    "collapsed": false
   },
   "outputs": [
    {
     "ename": "SyntaxError",
     "evalue": "invalid syntax (<ipython-input-6-1da4e4bbcc44>, line 2)",
     "output_type": "error",
     "traceback": [
      "\u001b[0;36m  File \u001b[0;32m\"<ipython-input-6-1da4e4bbcc44>\"\u001b[0;36m, line \u001b[0;32m2\u001b[0m\n\u001b[0;31m    egrep '\\d{4}\\s\\d{2,3}.*$' data/ohio-ashtabula/ashtabula-oh.txt\u001b[0m\n\u001b[0m                            ^\u001b[0m\n\u001b[0;31mSyntaxError\u001b[0m\u001b[0;31m:\u001b[0m invalid syntax\n"
     ]
    }
   ],
   "source": [
    "%bash\n",
    "egrep '\\d{4}\\s\\d{2,3}.*$' data/ohio-ashtabula/ashtabula-oh.txt"
   ]
  },
  {
   "cell_type": "markdown",
   "metadata": {},
   "source": [
    "# Working with the Grep data\n",
    "\n",
    "One solution is to use cut from the command line to pull out the characters at the end of the line.  I couldn't find a convenient switch to use cut to remove the characters at end of line so I used rev.\n",
    "\n",
    "So this is the data from Erie county, in the same order as the original file with votes in the first column and percentage in the second.\n",
    "\n",
    "A similar process can be used for data from both parties.\n",
    "\n",
    "So the final output desired is for a csv file with the precinct name, votes for party1, percent for party1, votes for party2, percent for party2.\n",
    "\n"
   ]
  },
  {
   "cell_type": "code",
   "execution_count": 11,
   "metadata": {
    "collapsed": false
   },
   "outputs": [
    {
     "name": "stdout",
     "output_type": "stream",
     "text": [
      "388,45.92\r\n",
      "382,57.62\r\n",
      "291,45.61\r\n",
      "273,49.01\r\n",
      "358,44.97\r\n",
      "405,56.88\r\n",
      "139,36.48\r\n",
      "630,72.50\r\n",
      "555,80.67\r\n",
      "425,62.04\r\n",
      "624,74.02\r\n",
      "511,65.01\r\n",
      "608,71.36\r\n",
      "549,69.76\r\n",
      "616,69.14\r\n",
      "554,74.97\r\n",
      "616,70.08\r\n",
      "448,73.08\r\n",
      "460,74.43\r\n",
      "551,77.06\r\n",
      "473,65.69\r\n",
      "624,63.09\r\n",
      "244,47.38\r\n",
      "248,58.35\r\n",
      "347,55.97\r\n",
      "307,55.62\r\n",
      "287,54.98\r\n",
      "211,53.55\r\n",
      "121,41.58\r\n",
      "203,57.18\r\n",
      "241,50.74\r\n",
      "222,41.42\r\n",
      "319,50.63\r\n",
      "419,46.92\r\n",
      "302,48.24\r\n",
      "414,50.49\r\n",
      "354,46.40\r\n",
      "330,40.79\r\n",
      "315,46.19\r\n",
      "309,44.21\r\n",
      "351,48.82\r\n",
      "293,57.91\r\n",
      "427,58.17\r\n",
      "275,55.78\r\n",
      "242,44.40\r\n",
      "342,38.30\r\n",
      "365,52.52\r\n",
      "513,61.44\r\n",
      "484,48.30\r\n",
      "307,42.34\r\n",
      "355,58.39\r\n",
      "112,49.78\r\n",
      "405,53.36\r\n",
      "360,52.33\r\n",
      "449,55.23\r\n",
      "345,54.68\r\n",
      "433,48.49\r\n",
      "409,53.19\r\n",
      "295,54.53\r\n",
      "264,52.28\r\n",
      "223,51.74\r\n",
      "226,45.93\r\n"
     ]
    }
   ],
   "source": [
    "!rev data/dem.txt | cut -c1-11 | rev | tr -s ' ' ',' # gives me a comma separated list"
   ]
  },
  {
   "cell_type": "code",
   "execution_count": 12,
   "metadata": {
    "collapsed": false
   },
   "outputs": [
    {
     "name": "stdout",
     "output_type": "stream",
     "text": [
      "0001 HUR A,388,45.92,446,52.78\r\n",
      "0002 HUR B,382,57.62,274,41.33\r\n",
      "0003 HUR C,291,45.61,338,52.98\r\n",
      "0004 HUR D,273,49.01,272,48.83\r\n",
      "0005 HUR E,358,44.97,432,54.27\r\n",
      "0006 HUR F,405,56.88,286,40.17\r\n",
      "0007 SAN A,139,36.48,235,61.68\r\n",
      "0008 SAN B,630,72.50,227,26.12\r\n",
      "0009 SAN C,555,80.67,126,18.31\r\n",
      "0010 SAN D,425,62.04,246,35.91\r\n",
      "0011 SAN E,624,74.02,205,24.32\r\n",
      "0012 SAN F,511,65.01,267,33.97\r\n",
      "0013 SAN G,608,71.36,230,27.00\r\n",
      "0014 SAN H,549,69.76,223,28.34\r\n",
      "0015 SAN I,616,69.14,261,29.29\r\n",
      "0016 SAN J,554,74.97,173,23.41\r\n",
      "0017 SAN K,616,70.08,241,27.42\r\n",
      "0018 SAN L,448,73.08,154,25.12\r\n",
      "0019 SAN M,460,74.43,140,22.65\r\n",
      "0020 SAN N,551,77.06,153,21.40\r\n",
      "0021 SAN O,473,65.69,218,30.28\r\n",
      "0022 SAN P,624,63.09,344,34.78\r\n",
      "0023 VER 1-A,244,47.38,261,50.68\r\n",
      "0024 VER 2-A,248,58.35,164,38.59\r\n",
      "0025 VER 2-B,347,55.97,259,41.77\r\n",
      "0026 VER 3-A,307,55.62,240,43.48\r\n",
      "0027 VER 3-B,287,54.98,219,41.95\r\n",
      "0028 BER VILL,211,53.55,175,44.42\r\n",
      "0029 KI VILL,121,41.58,167,57.39\r\n",
      "0030 BV VILL,203,57.18,147,41.41\r\n",
      "0031 CAST VILL,241,50.74,222,46.74\r\n",
      "0032 MIL VILL,222,41.42,301,56.16\r\n",
      "0033 BER TWP #1,319,50.63,302,47.94\r\n",
      "0034 BER TWP #2,419,46.92,456,51.06\r\n",
      "0035 FLO TWP #1,302,48.24,308,49.20\r\n",
      "0036 FLO TWP #2,414,50.49,392,47.80\r\n",
      "0037 GRO TWP,354,46.40,393,51.51\r\n",
      "0038 HUR TWP #1,330,40.79,466,57.60\r\n",
      "0039 HUR TWP #2,315,46.19,349,51.17\r\n",
      "0040 HUR TWP #3,309,44.21,378,54.08\r\n",
      "0041 MAR TWP #1,351,48.82,352,48.96\r\n",
      "0042 MAR TWP #2,293,57.91,203,40.12\r\n",
      "0043 MAR TWP #3,427,58.17,295,40.19\r\n",
      "0044 MAR TWP #4,275,55.78,212,43.00\r\n",
      "0045 MIL TWP #1,242,44.40,288,52.84\r\n",
      "0046 MIL TWP #2,342,38.30,531,59.46\r\n",
      "0047 OX TWP,365,52.52,317,45.61\r\n",
      "0048 PER TWP #1,513,61.44,307,36.77\r\n",
      "0049 PER TWP #2,484,48.30,494,49.30\r\n",
      "0050 PER TWP #3,307,42.34,408,56.28\r\n",
      "0051 PER TWP #4,355,58.39,236,38.82\r\n",
      "0052 PER TWP #5,112,49.78,103,45.78\r\n",
      "0053 PER TWP #6,405,53.36,344,45.32\r\n",
      "0054 PER TWP #7,360,52.33,311,45.20\r\n",
      "0055 PER TWP #8,449,55.23,352,43.30\r\n",
      "0056 PER TWP #9,345,54.68,276,43.74\r\n",
      "0057 PER TWP #10,433,48.49,443,49.61\r\n",
      "0058 VER TWP #1,409,53.19,349,45.38\r\n",
      "0059 VER TWP #2,295,54.53,237,43.81\r\n",
      "0060 VER TWP #3,264,52.28,228,45.15\r\n",
      "0061 VER TWP #4,223,51.74,198,45.94\r\n",
      "0062 VER TWP #5,226,45.93,258,52.44\r\n"
     ]
    }
   ],
   "source": [
    "!paste -d ',' data/erie-prec.txt data/dem-votes-erie.txt data/rep-votes-erie.txt | sed 's/^[ \\t]*//;s/[ \\t]*$//'\n",
    "\n",
    "# the final sed command is to strip leading and trailing whitespace"
   ]
  },
  {
   "cell_type": "markdown",
   "metadata": {},
   "source": [
    "# for the ashtabula data\n",
    "# grep expressions\n",
    "grep \"Obama\" ashtabula-oh.txt > dem.txt                                                                               \n",
    "grep \"McCain\" ashtabula-oh.txt > rep.txt\n",
    "\n",
    "# uses a sed expression to delete extra leading comma\n",
    "\n",
    "!rev rep.txt | cut -c1-11 | rev | tr -s ' ' ',' | sed 's/^,//g' > rep-votes-ash.txt\n",
    "\n",
    "# for the dems\n",
    "!rev dem.txt | cut -c1-11 | rev | tr -s ' ' ',' > dem-votes-ash.txt\n",
    "\n",
    "ack \"\\d{4}\\s\\d{2,3}.*$\" ashtabula-oh.txt | sed 's/^[ \\t]*//;s/[ \\t]*$//' > ashtabula-prec.txt\n",
    "\n",
    "paste -d ',' ashtabula-prec.txt dem-votes-ash.txt rep-votes-ash.txt | sed 's/^[ \\t]*//;s/[ \\t]*$//' > ash-out.csv"
   ]
  }
 ],
 "metadata": {
  "anaconda-cloud": {},
  "kernelspec": {
   "display_name": "Python [Root]",
   "language": "python",
   "name": "Python [Root]"
  },
  "language_info": {
   "codemirror_mode": {
    "name": "ipython",
    "version": 3
   },
   "file_extension": ".py",
   "mimetype": "text/x-python",
   "name": "python",
   "nbconvert_exporter": "python",
   "pygments_lexer": "ipython3",
   "version": "3.5.2"
  }
 },
 "nbformat": 4,
 "nbformat_minor": 0
}
